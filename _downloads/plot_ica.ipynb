{
  "nbformat_minor": 0, 
  "nbformat": 4, 
  "cells": [
    {
      "execution_count": null, 
      "cell_type": "code", 
      "source": [
        "%matplotlib inline"
      ], 
      "outputs": [], 
      "metadata": {
        "collapsed": false
      }
    }, 
    {
      "source": [
        "\nICA on mouse\n============\nIndependent components analysis on 5 mice.\n\n\n"
      ], 
      "cell_type": "markdown", 
      "metadata": {}
    }, 
    {
      "source": [
        "Retrieve the fMRI data\n----------------------\n\n"
      ], 
      "cell_type": "markdown", 
      "metadata": {}
    }, 
    {
      "execution_count": null, 
      "cell_type": "code", 
      "source": [
        "from sammba import data_fetchers\n\nretest = data_fetchers.fetch_zurich_test_retest(subjects=range(5),\n                                                correct_headers=True)"
      ], 
      "outputs": [], 
      "metadata": {
        "collapsed": false
      }
    }, 
    {
      "source": [
        "Load the template\n-------------------\n\n"
      ], 
      "cell_type": "markdown", 
      "metadata": {}
    }, 
    {
      "execution_count": null, 
      "cell_type": "code", 
      "source": [
        "dorr = data_fetchers.fetch_atlas_dorr_2008(downsample='100')\ntemplate = dorr.t2"
      ], 
      "outputs": [], 
      "metadata": {
        "collapsed": false
      }
    }, 
    {
      "source": [
        "Load the brain mask of the template\n-----------------------------------\n\n"
      ], 
      "cell_type": "markdown", 
      "metadata": {}
    }, 
    {
      "execution_count": null, 
      "cell_type": "code", 
      "source": [
        "import os\n\ndorr_masks = data_fetchers.fetch_masks_dorr_2008(downsample='100')\ntemplate_brain_mask = os.path.join('dorr_100_mask.nii.gz')\ndorr_masks.brain.to_filename(template_brain_mask)"
      ], 
      "outputs": [], 
      "metadata": {
        "collapsed": false
      }
    }, 
    {
      "source": [
        "Register to the template\n------------------------\n\n"
      ], 
      "cell_type": "markdown", 
      "metadata": {}
    }, 
    {
      "execution_count": null, 
      "cell_type": "code", 
      "source": [
        "from sammba.registration import TemplateRegistrator\n\nregistrator = TemplateRegistrator(brain_volume=400, caching=True,\n                                  template=template, use_rats_tool=False,\n                                  template_brain_mask=template_brain_mask,\n                                  registration_kind='affine')\n\nregistered_funcs = []\nfor anat, func in zip(retest.anat, retest.func):\n    animal_id = os.path.basename(os.path.dirname(anat))\n    registrator.output_dir = os.path.join('ica', animal_id)\n    registrator.fit_anat(anat)\n    registrator.fit_modality(func, 'func', t_r=1., voxel_size=(.3, .3, .3),\n                             prior_rigid_body_registration=True)\n    registered_funcs.append(registrator.registered_func_)"
      ], 
      "outputs": [], 
      "metadata": {
        "collapsed": false
      }
    }, 
    {
      "source": [
        "Run ICA\n-------\n\n"
      ], 
      "cell_type": "markdown", 
      "metadata": {}
    }, 
    {
      "execution_count": null, 
      "cell_type": "code", 
      "source": [
        "from nilearn.decomposition import CanICA\n\ncanica = CanICA(n_components=30, smoothing_fwhm=.3, n_jobs=-1)\ncanica.fit(registered_funcs)"
      ], 
      "outputs": [], 
      "metadata": {
        "collapsed": false
      }
    }, 
    {
      "source": [
        "Retrieve the independent components in brain space.\n\n"
      ], 
      "cell_type": "markdown", 
      "metadata": {}
    }, 
    {
      "execution_count": null, 
      "cell_type": "code", 
      "source": [
        "components_img = canica.masker_.inverse_transform(canica.components_)"
      ], 
      "outputs": [], 
      "metadata": {
        "collapsed": false
      }
    }, 
    {
      "source": [
        "Visualize the components\n------------------------\nWe can plot the outline of all components on one figure.\n\n"
      ], 
      "cell_type": "markdown", 
      "metadata": {}
    }, 
    {
      "execution_count": null, 
      "cell_type": "code", 
      "source": [
        "from nilearn import plotting\n\nplotting.plot_prob_atlas(components_img,\n                         bg_img=registrator.template_brain_,\n                         display_mode='z',\n                         title='All ICA components')"
      ], 
      "outputs": [], 
      "metadata": {
        "collapsed": false
      }
    }
  ], 
  "metadata": {
    "kernelspec": {
      "display_name": "Python 2", 
      "name": "python2", 
      "language": "python"
    }, 
    "language_info": {
      "mimetype": "text/x-python", 
      "nbconvert_exporter": "python", 
      "name": "python", 
      "file_extension": ".py", 
      "version": "2.7.14", 
      "pygments_lexer": "ipython2", 
      "codemirror_mode": {
        "version": 2, 
        "name": "ipython"
      }
    }
  }
}