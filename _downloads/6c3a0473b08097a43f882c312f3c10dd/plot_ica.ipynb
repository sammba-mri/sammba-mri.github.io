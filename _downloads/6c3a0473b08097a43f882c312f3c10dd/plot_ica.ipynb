{
  "cells": [
    {
      "cell_type": "code",
      "execution_count": null,
      "metadata": {
        "collapsed": false
      },
      "outputs": [],
      "source": [
        "%matplotlib inline"
      ]
    },
    {
      "cell_type": "markdown",
      "metadata": {},
      "source": [
        "\nICA on mouse\n============\nIndependent components analysis on 5 mice.\n\n\n"
      ]
    },
    {
      "cell_type": "markdown",
      "metadata": {},
      "source": [
        "Retrieve the fMRI data\n----------------------\n\n"
      ]
    },
    {
      "cell_type": "code",
      "execution_count": null,
      "metadata": {
        "collapsed": false
      },
      "outputs": [],
      "source": [
        "from sammba import data_fetchers\n\nretest = data_fetchers.fetch_zurich_test_retest(subjects=range(5),\n                                                correct_headers=True)"
      ]
    },
    {
      "cell_type": "markdown",
      "metadata": {},
      "source": [
        "Load the template and its brain mask\n------------------------------------\n\n"
      ]
    },
    {
      "cell_type": "code",
      "execution_count": null,
      "metadata": {
        "collapsed": false
      },
      "outputs": [],
      "source": [
        "dorr = data_fetchers.fetch_atlas_dorr_2008(downsample='100')\ndorr_masks = data_fetchers.fetch_masks_dorr_2008(downsample='100')\nprint('Path to template is {} and to the brain mask is {}'.format(dorr.t2,\n      dorr_masks.brain))"
      ]
    },
    {
      "cell_type": "markdown",
      "metadata": {},
      "source": [
        "Register to the template\n------------------------\n\n"
      ]
    },
    {
      "cell_type": "code",
      "execution_count": null,
      "metadata": {
        "collapsed": false
      },
      "outputs": [],
      "source": [
        "import os\nfrom sammba.registration import TemplateRegistrator\n\nregistrator = TemplateRegistrator(brain_volume=400, caching=True,\n                                  template=dorr.t2, use_rats_tool=False,\n                                  template_brain_mask=dorr_masks.brain,\n                                  registration_kind='affine')\n\nregistered_funcs = []\nfor anat, func in zip(retest.anat, retest.func):\n    animal_id = os.path.basename(os.path.dirname(anat))\n    registrator.output_dir = os.path.join('ica', animal_id)\n    registrator.fit_anat(anat)\n    registrator.fit_modality(func, 'func', t_r=1., voxel_size=(.3, .3, .3),\n                             prior_rigid_body_registration=True)\n    registered_funcs.append(registrator.registered_func_)"
      ]
    },
    {
      "cell_type": "markdown",
      "metadata": {},
      "source": [
        "Run ICA\n-------\n\n"
      ]
    },
    {
      "cell_type": "code",
      "execution_count": null,
      "metadata": {
        "collapsed": false
      },
      "outputs": [],
      "source": [
        "from nilearn.decomposition import CanICA\n\ncanica = CanICA(n_components=30, smoothing_fwhm=.3, n_jobs=-1)\ncanica.fit(registered_funcs)"
      ]
    },
    {
      "cell_type": "markdown",
      "metadata": {},
      "source": [
        "Retrieve the independent components in brain space.\n\n"
      ]
    },
    {
      "cell_type": "code",
      "execution_count": null,
      "metadata": {
        "collapsed": false
      },
      "outputs": [],
      "source": [
        "components_img = canica.masker_.inverse_transform(canica.components_)"
      ]
    },
    {
      "cell_type": "markdown",
      "metadata": {},
      "source": [
        "Visualize the components\n------------------------\nWe can plot the outline of all components on one figure.\n\n"
      ]
    },
    {
      "cell_type": "code",
      "execution_count": null,
      "metadata": {
        "collapsed": false
      },
      "outputs": [],
      "source": [
        "from nilearn import plotting\n\nplotting.plot_prob_atlas(components_img,\n                         bg_img=registrator.template_brain_,\n                         display_mode='z',\n                         title='All ICA components')"
      ]
    }
  ],
  "metadata": {
    "kernelspec": {
      "display_name": "Python 3",
      "language": "python",
      "name": "python3"
    },
    "language_info": {
      "codemirror_mode": {
        "name": "ipython",
        "version": 3
      },
      "file_extension": ".py",
      "mimetype": "text/x-python",
      "name": "python",
      "nbconvert_exporter": "python",
      "pygments_lexer": "ipython3",
      "version": "3.7.3"
    }
  },
  "nbformat": 4,
  "nbformat_minor": 0
}