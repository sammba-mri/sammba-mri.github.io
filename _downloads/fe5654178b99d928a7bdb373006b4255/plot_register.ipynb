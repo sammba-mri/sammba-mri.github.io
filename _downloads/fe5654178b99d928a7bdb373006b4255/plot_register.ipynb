{
  "cells": [
    {
      "cell_type": "code",
      "execution_count": null,
      "metadata": {
        "collapsed": false
      },
      "outputs": [],
      "source": [
        "%matplotlib inline"
      ]
    },
    {
      "cell_type": "markdown",
      "metadata": {},
      "source": [
        "\nRegistration to common space\n============================\n\nHere we show how to create a template from multiple anatomical scans and\nregister all of them to it.\nInitially, registration is of extracted brains. Once these are reasonably\naligned, whole heads are registered, weighted by masks that, if parameters\nare chosen well, include some scalp. The amount of scalp is hopefully enough\nto help in differentiating the brain-scalp boundary without including so much\nhead tissue that it starts to contaminate the registration with the highly\nvariable head tissue.\n\n"
      ]
    },
    {
      "cell_type": "markdown",
      "metadata": {},
      "source": [
        "Retrieve the data\n-----------------\n\n"
      ]
    },
    {
      "cell_type": "code",
      "execution_count": null,
      "metadata": {
        "collapsed": false
      },
      "outputs": [],
      "source": [
        "from sammba import data_fetchers\n\nlemur = data_fetchers.fetch_lemur_mircen_2019_t2(subjects=[0, 1, 2])"
      ]
    },
    {
      "cell_type": "markdown",
      "metadata": {},
      "source": [
        "retest contains paths to images and data description\n\n"
      ]
    },
    {
      "cell_type": "code",
      "execution_count": null,
      "metadata": {
        "collapsed": false
      },
      "outputs": [],
      "source": [
        "print(lemur.anat)"
      ]
    },
    {
      "cell_type": "markdown",
      "metadata": {},
      "source": [
        "Define the writing directory\n----------------------------\n\n"
      ]
    },
    {
      "cell_type": "code",
      "execution_count": null,
      "metadata": {
        "collapsed": false
      },
      "outputs": [],
      "source": [
        "import os\n\nwrite_dir = os.path.join(os.getcwd(), 'lemur_common')\nif not os.path.exists(write_dir):\n    os.makedirs(write_dir)"
      ]
    },
    {
      "cell_type": "markdown",
      "metadata": {},
      "source": [
        "Create the template\n-------------------\n\n"
      ]
    },
    {
      "cell_type": "code",
      "execution_count": null,
      "metadata": {
        "collapsed": false
      },
      "outputs": [],
      "source": [
        "from sammba.registration import anats_to_common\n\naffine_register = anats_to_common(lemur.anat, write_dir, 400,\n                                  use_rats_tool=False, caching=True)"
      ]
    },
    {
      "cell_type": "markdown",
      "metadata": {},
      "source": [
        "We set caching to True, so that the computations are not restarted.\nThe paths to the registered images can be accessed easilly\n\n"
      ]
    },
    {
      "cell_type": "code",
      "execution_count": null,
      "metadata": {
        "collapsed": false
      },
      "outputs": [],
      "source": [
        "registered_anats = affine_register.registered\nprint(registered_anats)"
      ]
    },
    {
      "cell_type": "markdown",
      "metadata": {},
      "source": [
        "Assess the template\n-------------------\n\n"
      ]
    },
    {
      "cell_type": "code",
      "execution_count": null,
      "metadata": {
        "collapsed": false
      },
      "outputs": [],
      "source": [
        "from nilearn import image\ntemplate_img = image.mean_img(registered_anats)"
      ]
    },
    {
      "cell_type": "markdown",
      "metadata": {},
      "source": [
        "Visalize results\n----------------\nWe plot the edges of one individual anat on top of the average image\n\n"
      ]
    },
    {
      "cell_type": "code",
      "execution_count": null,
      "metadata": {
        "collapsed": false
      },
      "outputs": [],
      "source": [
        "from nilearn import plotting\n\naverage_img = image.mean_img(registered_anats)\ndisplay = plotting.plot_anat(average_img, dim=-1.6, title='affine register')\ndisplay.add_edges(registered_anats[0])\nplotting.show()"
      ]
    },
    {
      "cell_type": "markdown",
      "metadata": {},
      "source": [
        "Visualize pipeline steps\n-------------------------\n\n"
      ]
    },
    {
      "cell_type": "code",
      "execution_count": null,
      "metadata": {
        "collapsed": false
      },
      "outputs": [],
      "source": [
        "from sammba.graphs import create_pipeline_graph\n\ngraph_file = os.path.join(write_dir, 'affine_registration_graph')\ncreate_pipeline_graph('anats_to_common_affine', graph_file)"
      ]
    }
  ],
  "metadata": {
    "kernelspec": {
      "display_name": "Python 3",
      "language": "python",
      "name": "python3"
    },
    "language_info": {
      "codemirror_mode": {
        "name": "ipython",
        "version": 3
      },
      "file_extension": ".py",
      "mimetype": "text/x-python",
      "name": "python",
      "nbconvert_exporter": "python",
      "pygments_lexer": "ipython3",
      "version": "3.7.3"
    }
  },
  "nbformat": 4,
  "nbformat_minor": 0
}