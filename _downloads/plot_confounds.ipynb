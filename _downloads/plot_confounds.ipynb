{
  "nbformat_minor": 0, 
  "nbformat": 4, 
  "cells": [
    {
      "execution_count": null, 
      "cell_type": "code", 
      "source": [
        "%matplotlib inline"
      ], 
      "outputs": [], 
      "metadata": {
        "collapsed": false
      }
    }, 
    {
      "source": [
        "\nConfounds exploration\n=====================\n\nHere we show how to regress out confound signals, in particular statistical\nCompCor.\n\n   * Y. Behzadi et al. `A Component Based Noise Correction Method (CompCor) for BOLD and Perfusion Based fMRI\n     <https://www.ncbi.nlm.nih.gov/pmc/articles/PMC2214855/>`_,\n     NeuroImage Vol 37 (2007), p. 90-101\n\n"
      ], 
      "cell_type": "markdown", 
      "metadata": {}
    }, 
    {
      "source": [
        "Retrieve the data\n\n"
      ], 
      "cell_type": "markdown", 
      "metadata": {}
    }, 
    {
      "execution_count": null, 
      "cell_type": "code", 
      "source": [
        "from sammba import data_fetchers\n\ntest_retest = data_fetchers.fetch_zurich_test_retest(subjects=[1])\nfmri_filename = test_retest.func[0]"
      ], 
      "outputs": [], 
      "metadata": {
        "collapsed": false
      }
    }, 
    {
      "source": [
        "Statistical CompCor\n----------------------------------------------\nWe perform a PCA to extract the 98% most variant components.\nThis is done by the function **nilearn.image.high_variance_confounds**,\n\n"
      ], 
      "cell_type": "markdown", 
      "metadata": {}
    }, 
    {
      "execution_count": null, 
      "cell_type": "code", 
      "source": [
        "from nilearn import image\n\nhv_array = image.high_variance_confounds(fmri_filename)\nprint('Computed {0} confounds array.'.format(hv_array.shape))"
      ], 
      "outputs": [], 
      "metadata": {
        "collapsed": false
      }
    }, 
    {
      "source": [
        "Do my counfounds model noise properly? Voxel-to-voxel connectivity tells!\n-------------------------------------------------------------------------\n\nCheck the relevance of chosen confounds: The distribution of voxel-to-voxel\ncorrelations should be tight and approximately centered to zero.\n\nCompute voxel-wise time series with and without confounds removal,\nusing NiftiMasker.\n\n"
      ], 
      "cell_type": "markdown", 
      "metadata": {}
    }, 
    {
      "execution_count": null, 
      "cell_type": "code", 
      "source": [
        "from nilearn.input_data import NiftiMasker\n\nbrain_masker = NiftiMasker(detrend=True, memory='nilearn_cache', verbose=1)\ntimeseries_raw = brain_masker.fit_transform(fmri_filename)"
      ], 
      "outputs": [], 
      "metadata": {
        "collapsed": false
      }
    }, 
    {
      "source": [
        "Next, compute the voxel-to-voxel correlations. We Use only 1% of voxels,\nto save computation time.\n\n"
      ], 
      "cell_type": "markdown", 
      "metadata": {}
    }, 
    {
      "execution_count": null, 
      "cell_type": "code", 
      "source": [
        "import numpy as np\n\nselected_voxels = range(0, timeseries_raw.shape[1], 100)\ncorrelations_raw = np.corrcoef(timeseries_raw[:, selected_voxels].T)"
      ], 
      "outputs": [], 
      "metadata": {
        "collapsed": false
      }
    }, 
    {
      "source": [
        "Same thing, with counfounds removed: compute voxelwise time-series\n\n"
      ], 
      "cell_type": "markdown", 
      "metadata": {}
    }, 
    {
      "execution_count": null, 
      "cell_type": "code", 
      "source": [
        "timeseries_cleaned = brain_masker.fit_transform(\n    fmri_filename, confounds=[hv_array])\ncorrelations_cleaned = np.corrcoef(timeseries_cleaned[:, selected_voxels].T)"
      ], 
      "outputs": [], 
      "metadata": {
        "collapsed": false
      }
    }, 
    {
      "source": [
        "Plot now the histograms of both raw and cleaned correlations.\n\n"
      ], 
      "cell_type": "markdown", 
      "metadata": {}
    }, 
    {
      "execution_count": null, 
      "cell_type": "code", 
      "source": [
        "import matplotlib.pylab as plt\n\nplt.figure(figsize=(8, 5))\nplt.hist(correlations_raw[np.triu_indices_from(correlations_raw, k=1)],\n         color='r', alpha=.3, bins=100, lw=0, label='raw')\nplt.hist(correlations_cleaned[np.triu_indices_from(correlations_cleaned, k=1)],\n         color='b', alpha=.3, bins=100, lw=0, label='cleaned')\n\n[ymin, ymax] = plt.ylim()\nplt.vlines(0, ymin, ymax)\nplt.xlabel('correlation values')\nplt.title('voxel-to-voxel correlations')\nplt.legend()\nplt.tight_layout()\nplt.show()"
      ], 
      "outputs": [], 
      "metadata": {
        "collapsed": false
      }
    }, 
    {
      "source": [
        "The correlations distribution is wider after statistical CompCor, so these\nconfounds are not well suited to our case.\n\n"
      ], 
      "cell_type": "markdown", 
      "metadata": {}
    }
  ], 
  "metadata": {
    "kernelspec": {
      "display_name": "Python 2", 
      "name": "python2", 
      "language": "python"
    }, 
    "language_info": {
      "mimetype": "text/x-python", 
      "nbconvert_exporter": "python", 
      "name": "python", 
      "file_extension": ".py", 
      "version": "2.7.14", 
      "pygments_lexer": "ipython2", 
      "codemirror_mode": {
        "version": 2, 
        "name": "ipython"
      }
    }
  }
}