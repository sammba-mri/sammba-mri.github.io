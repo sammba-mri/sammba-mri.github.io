{
  "nbformat_minor": 0, 
  "nbformat": 4, 
  "cells": [
    {
      "execution_count": null, 
      "cell_type": "code", 
      "source": [
        "%matplotlib inline"
      ], 
      "outputs": [], 
      "metadata": {
        "collapsed": false
      }
    }, 
    {
      "source": [
        "\nFunctional and anatomical coregistration\n========================================\n\nStandard functional preprocessing and registration of functional image to the\nanatomical.\n\n"
      ], 
      "cell_type": "markdown", 
      "metadata": {}
    }, 
    {
      "source": [
        "Retrieve data\n-------------\n\n"
      ], 
      "cell_type": "markdown", 
      "metadata": {}
    }, 
    {
      "execution_count": null, 
      "cell_type": "code", 
      "source": [
        "from sammba import data_fetchers\n\nretest = data_fetchers.fetch_zurich_test_retest(subjects=[0],\n                                                correct_headers=True)"
      ], 
      "outputs": [], 
      "metadata": {
        "collapsed": false
      }
    }, 
    {
      "source": [
        "retest contains paths to images and data description\n\n"
      ], 
      "cell_type": "markdown", 
      "metadata": {}
    }, 
    {
      "execution_count": null, 
      "cell_type": "code", 
      "source": [
        "anat_filename = retest.anat[0]\nfunc_filename = retest.func[0]\nprint(func_filename)"
      ], 
      "outputs": [], 
      "metadata": {
        "collapsed": false
      }
    }, 
    {
      "source": [
        "We use the `Coregistrator`, which coregisters the anatomical to\na given modality\n\n"
      ], 
      "cell_type": "markdown", 
      "metadata": {}
    }, 
    {
      "execution_count": null, 
      "cell_type": "code", 
      "source": [
        "from sammba.registration import Coregistrator\n\ncoregistrator = Coregistrator(output_dir='animal_1366', brain_volume=400,\n                              use_rats_tool=False, caching=True)\nprint(coregistrator)"
      ], 
      "outputs": [], 
      "metadata": {
        "collapsed": false
      }
    }, 
    {
      "source": [
        "`Coregistrator` comes with a parameter `clipping_fraction=.2` which\nsometimes needs to be changed to get a good brain mask. You can check how\nthis parameter impacts the brain segmentation\n\n"
      ], 
      "cell_type": "markdown", 
      "metadata": {}
    }, 
    {
      "execution_count": null, 
      "cell_type": "code", 
      "source": [
        "from sammba.segmentation import brain_extraction_report\n\nprint(brain_extraction_report(anat_filename, brain_volume=400,\n                              clipping_fractions=[.1, .2, .9, None],\n                              use_rats_tool=False))"
      ], 
      "outputs": [], 
      "metadata": {
        "collapsed": false
      }
    }, 
    {
      "source": [
        "Anatomical to functional registration\n-------------------------------------\n\n"
      ], 
      "cell_type": "markdown", 
      "metadata": {}
    }, 
    {
      "execution_count": null, 
      "cell_type": "code", 
      "source": [
        "coregistrator.fit_anat(anat_filename)\ncoregistrator.fit_modality(func_filename, 'func', t_r=1.,\n                           prior_rigid_body_registration=True)"
      ], 
      "outputs": [], 
      "metadata": {
        "collapsed": false
      }
    }, 
    {
      "source": [
        "The paths to the registered functional and anatomical images are accessible\nthrough the `coregistrator` attributes\n\n"
      ], 
      "cell_type": "markdown", 
      "metadata": {}
    }, 
    {
      "execution_count": null, 
      "cell_type": "code", 
      "source": [
        "registered_func_filename = coregistrator.undistorted_func_\nregistered_anat_filename = coregistrator.anat_in_func_space_"
      ], 
      "outputs": [], 
      "metadata": {
        "collapsed": false
      }
    }, 
    {
      "source": [
        "Check out the results\n---------------------\n\n"
      ], 
      "cell_type": "markdown", 
      "metadata": {}
    }, 
    {
      "execution_count": null, 
      "cell_type": "code", 
      "source": [
        "from nilearn import plotting, image\n\ndisplay = plotting.plot_epi(image.mean_img(registered_func_filename),\n                            title='coreg anat edges on top of mean coreg EPI')\ndisplay.add_edges(registered_anat_filename)\nplotting.show()"
      ], 
      "outputs": [], 
      "metadata": {
        "collapsed": false
      }
    }
  ], 
  "metadata": {
    "kernelspec": {
      "display_name": "Python 2", 
      "name": "python2", 
      "language": "python"
    }, 
    "language_info": {
      "mimetype": "text/x-python", 
      "nbconvert_exporter": "python", 
      "name": "python", 
      "file_extension": ".py", 
      "version": "2.7.14", 
      "pygments_lexer": "ipython2", 
      "codemirror_mode": {
        "version": 2, 
        "name": "ipython"
      }
    }
  }
}