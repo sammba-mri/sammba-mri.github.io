{
  "nbformat_minor": 0, 
  "nbformat": 4, 
  "cells": [
    {
      "execution_count": null, 
      "cell_type": "code", 
      "source": [
        "%matplotlib inline"
      ], 
      "outputs": [], 
      "metadata": {
        "collapsed": false
      }
    }, 
    {
      "source": [
        "\nRegistration to template\n============================\nRegistration of anatomical and functional scans to a given template.\n\n\n"
      ], 
      "cell_type": "markdown", 
      "metadata": {}
    }, 
    {
      "source": [
        "Retrieve the fMRI data\n----------------------\n\n"
      ], 
      "cell_type": "markdown", 
      "metadata": {}
    }, 
    {
      "execution_count": null, 
      "cell_type": "code", 
      "source": [
        "from sammba import data_fetchers\n\nretest = data_fetchers.fetch_zurich_test_retest(subjects=[0],\n                                                correct_headers=True)"
      ], 
      "outputs": [], 
      "metadata": {
        "collapsed": false
      }
    }, 
    {
      "source": [
        "retest contains paths to images and data description\n\n"
      ], 
      "cell_type": "markdown", 
      "metadata": {}
    }, 
    {
      "execution_count": null, 
      "cell_type": "code", 
      "source": [
        "anat_filename = retest.anat[0]\nfunc_filename = retest.func[0]\nprint(func_filename)"
      ], 
      "outputs": [], 
      "metadata": {
        "collapsed": false
      }
    }, 
    {
      "source": [
        "We encapsulate them through an object called `FMRISession`\n\n"
      ], 
      "cell_type": "markdown", 
      "metadata": {}
    }, 
    {
      "execution_count": null, 
      "cell_type": "code", 
      "source": [
        "from sammba.registration import FMRISession\n\nanimal_session = FMRISession(anat=anat_filename, func=func_filename,\n                             animal_id='1366')"
      ], 
      "outputs": [], 
      "metadata": {
        "collapsed": false
      }
    }, 
    {
      "source": [
        "Choose the template\n-------------------\nWe choose the downsampled version of DORR average, to avoid memory issues\n\n"
      ], 
      "cell_type": "markdown", 
      "metadata": {}
    }, 
    {
      "execution_count": null, 
      "cell_type": "code", 
      "source": [
        "dorr = data_fetchers.fetch_atlas_dorr_2008(downsample='100')"
      ], 
      "outputs": [], 
      "metadata": {
        "collapsed": false
      }
    }, 
    {
      "source": [
        "dorr contains paths to DORR atlas and average T2 image\n\n"
      ], 
      "cell_type": "markdown", 
      "metadata": {}
    }, 
    {
      "execution_count": null, 
      "cell_type": "code", 
      "source": [
        "template_filename = dorr.t2\nprint(template_filename)"
      ], 
      "outputs": [], 
      "metadata": {
        "collapsed": false
      }
    }, 
    {
      "source": [
        "Define the writing directory\n----------------------------\n\n"
      ], 
      "cell_type": "markdown", 
      "metadata": {}
    }, 
    {
      "execution_count": null, 
      "cell_type": "code", 
      "source": [
        "import os\n\nwrite_dir = os.path.join(os.getcwd(), 'zurich_template')\nif not os.path.exists(write_dir):\n    os.makedirs(write_dir)"
      ], 
      "outputs": [], 
      "metadata": {
        "collapsed": false
      }
    }, 
    {
      "source": [
        "Perform the registration\n------------------------\nWe purposely choose a low maxlev, to speed-up computations\n\n"
      ], 
      "cell_type": "markdown", 
      "metadata": {}
    }, 
    {
      "execution_count": null, 
      "cell_type": "code", 
      "source": [
        "from sammba.registration import fmri_sessions_to_template\n\nfmri_sessions_to_template(sessions=[animal_session],\n                          head_template_filename=template_filename,\n                          t_r=1., write_dir=write_dir,\n                          brain_volume=400,\n                          slice_timing=True,\n                          prior_rigid_body_registration=True,\n                          maxlev=1,\n                          caching=True)"
      ], 
      "outputs": [], 
      "metadata": {
        "collapsed": false
      }
    }, 
    {
      "source": [
        "The paths to the registered images are added to `animal_session`\n\n"
      ], 
      "cell_type": "markdown", 
      "metadata": {}
    }, 
    {
      "execution_count": null, 
      "cell_type": "code", 
      "source": [
        "print('Registrered anatomical image is ' + animal_session.registered_anat_)\nprint('Registrered functional image is ' + animal_session.registered_func_)"
      ], 
      "outputs": [], 
      "metadata": {
        "collapsed": false
      }
    }, 
    {
      "source": [
        "Visalize results\n----------------\nWe plot the edges of the template on top of the registered anatomical image\n\n"
      ], 
      "cell_type": "markdown", 
      "metadata": {}
    }, 
    {
      "execution_count": null, 
      "cell_type": "code", 
      "source": [
        "from nilearn import plotting, image\n\ndisplay = plotting.plot_anat(animal_session.registered_anat_, dim=-1.95,\n                             title='template edges on top of registered anat')\ndisplay.add_edges(template_filename)"
      ], 
      "outputs": [], 
      "metadata": {
        "collapsed": false
      }
    }, 
    {
      "source": [
        "and on top of the average registered functional\n\n"
      ], 
      "cell_type": "markdown", 
      "metadata": {}
    }, 
    {
      "execution_count": null, 
      "cell_type": "code", 
      "source": [
        "from nilearn import image\n\nmean_registered_func_filename = image.mean_img(animal_session.registered_func_)\ndisplay = plotting.plot_epi(mean_registered_func_filename,\n                            title='template edges on top of registered func')\ndisplay.add_edges(template_filename)\nplotting.show()"
      ], 
      "outputs": [], 
      "metadata": {
        "collapsed": false
      }
    }
  ], 
  "metadata": {
    "kernelspec": {
      "display_name": "Python 2", 
      "name": "python2", 
      "language": "python"
    }, 
    "language_info": {
      "mimetype": "text/x-python", 
      "nbconvert_exporter": "python", 
      "name": "python", 
      "file_extension": ".py", 
      "version": "2.7.14", 
      "pygments_lexer": "ipython2", 
      "codemirror_mode": {
        "version": 2, 
        "name": "ipython"
      }
    }
  }
}