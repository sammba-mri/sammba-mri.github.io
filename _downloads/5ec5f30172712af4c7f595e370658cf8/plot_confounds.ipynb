{
  "cells": [
    {
      "cell_type": "code",
      "execution_count": null,
      "metadata": {
        "collapsed": false
      },
      "outputs": [],
      "source": [
        "%matplotlib inline"
      ]
    },
    {
      "cell_type": "markdown",
      "metadata": {},
      "source": [
        "\nConfounds exploration\n=====================\n\nHere we show how to regress out confound signals, in particular using \nstatistical CompCor.\n\n   * Y. Behzadi et al. `A Component Based Noise Correction Method (CompCor) for BOLD and Perfusion Based fMRI\n     <https://www.ncbi.nlm.nih.gov/pmc/articles/PMC2214855/>`_,\n     NeuroImage Vol 37 (2007), p. 90-101\n\n"
      ]
    },
    {
      "cell_type": "markdown",
      "metadata": {},
      "source": [
        "Statistical CompCor\n----------------------------------------------\nRetrieve the data from one subject\n\n"
      ]
    },
    {
      "cell_type": "code",
      "execution_count": null,
      "metadata": {
        "collapsed": false
      },
      "outputs": [],
      "source": [
        "from sammba import data_fetchers\n\ntest_retest = data_fetchers.fetch_zurich_test_retest(subjects=[1])\nfmri_filename = test_retest.func[0]"
      ]
    },
    {
      "cell_type": "markdown",
      "metadata": {},
      "source": [
        "We perform a PCA to extract the 98% most variant components.\nThis is done by the function **nilearn.image.high_variance_confounds**,\n\n"
      ]
    },
    {
      "cell_type": "code",
      "execution_count": null,
      "metadata": {
        "collapsed": false
      },
      "outputs": [],
      "source": [
        "from nilearn import image\n\nhv_array = image.high_variance_confounds(fmri_filename)\nprint('Computed {0} confounds array.'.format(hv_array.shape[1]))"
      ]
    },
    {
      "cell_type": "markdown",
      "metadata": {},
      "source": [
        "Do my counfounds model noise properly? Voxel-to-voxel connectivity tells!\n-------------------------------------------------------------------------\nCheck the relevance of chosen confounds: The distribution of voxel-to-voxel\ncorrelations should be tight and approximately centered to zero.\n\nCompute voxel-wise time series without confounds removal, using NiftiMasker.\n\n"
      ]
    },
    {
      "cell_type": "code",
      "execution_count": null,
      "metadata": {
        "collapsed": false
      },
      "outputs": [],
      "source": [
        "from nilearn.input_data import NiftiMasker\n\nbrain_masker = NiftiMasker(detrend=True, memory='nilearn_cache', verbose=1)\ntimeseries_raw = brain_masker.fit_transform(fmri_filename)"
      ]
    },
    {
      "cell_type": "markdown",
      "metadata": {},
      "source": [
        "Next, compute the voxel-to-voxel correlations. We use only 1% of voxels,\nto save computation time.\n\n"
      ]
    },
    {
      "cell_type": "code",
      "execution_count": null,
      "metadata": {
        "collapsed": false
      },
      "outputs": [],
      "source": [
        "import numpy as np\n\nselected_voxels = range(0, timeseries_raw.shape[1], 100)\ncorrelations_raw = np.corrcoef(timeseries_raw[:, selected_voxels].T)"
      ]
    },
    {
      "cell_type": "markdown",
      "metadata": {},
      "source": [
        "Same thing, with counfounds removed: compute voxelwise time-series\n\n"
      ]
    },
    {
      "cell_type": "code",
      "execution_count": null,
      "metadata": {
        "collapsed": false
      },
      "outputs": [],
      "source": [
        "timeseries_cleaned = brain_masker.fit_transform(\n    fmri_filename, confounds=[hv_array])\ncorrelations_cleaned = np.corrcoef(timeseries_cleaned[:, selected_voxels].T)"
      ]
    },
    {
      "cell_type": "markdown",
      "metadata": {},
      "source": [
        "Plot now the histograms of both raw and cleaned correlations.\n\n"
      ]
    },
    {
      "cell_type": "code",
      "execution_count": null,
      "metadata": {
        "collapsed": false
      },
      "outputs": [],
      "source": [
        "import matplotlib.pylab as plt\n\nplt.figure(figsize=(8, 5))\nplt.hist(correlations_raw[np.triu_indices_from(correlations_raw, k=1)],\n         color='r', alpha=.3, bins=100, lw=0, label='raw')\nplt.hist(correlations_cleaned[np.triu_indices_from(correlations_cleaned, k=1)],\n         color='b', alpha=.3, bins=100, lw=0, label='cleaned')\n\n[ymin, ymax] = plt.ylim()\nplt.vlines(0, ymin, ymax)\nplt.xlabel('correlation values')\nplt.title('voxel-to-voxel correlations')\nplt.legend()\nplt.tight_layout()\nplt.show()"
      ]
    },
    {
      "cell_type": "markdown",
      "metadata": {},
      "source": [
        "The correlations distribution is wider after statistical CompCor, so these\nconfounds are not well suited to our case.\n\n"
      ]
    }
  ],
  "metadata": {
    "kernelspec": {
      "display_name": "Python 3",
      "language": "python",
      "name": "python3"
    },
    "language_info": {
      "codemirror_mode": {
        "name": "ipython",
        "version": 3
      },
      "file_extension": ".py",
      "mimetype": "text/x-python",
      "name": "python",
      "nbconvert_exporter": "python",
      "pygments_lexer": "ipython3",
      "version": "3.7.3"
    }
  },
  "nbformat": 4,
  "nbformat_minor": 0
}