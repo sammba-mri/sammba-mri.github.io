{
  "nbformat_minor": 0, 
  "nbformat": 4, 
  "cells": [
    {
      "execution_count": null, 
      "cell_type": "code", 
      "source": [
        "%matplotlib inline"
      ], 
      "outputs": [], 
      "metadata": {
        "collapsed": false
      }
    }, 
    {
      "source": [
        "\nRegistration to common space\n============================\n\nHere we show how to create a template from multiple anatomical scans and\nregister all of them to it.\nInitially, registration is of extracted brains. Once these are reasonably\naligned, whole heads are registered, weighted by masks that, if parameters\nare chosen well, include some scalp. The amount of scalp is hopefully enough\nto help in differentiating the brain-scalp boundary without including so much\nhead tissue that it starts to contaminate the registration with the highly\nvariable head tissue.\n\n"
      ], 
      "cell_type": "markdown", 
      "metadata": {}
    }, 
    {
      "source": [
        "Retrieve the data\n-----------------\n\n"
      ], 
      "cell_type": "markdown", 
      "metadata": {}
    }, 
    {
      "execution_count": null, 
      "cell_type": "code", 
      "source": [
        "from sammba import data_fetchers\n\nretest = data_fetchers.fetch_zurich_test_retest(subjects=[0, 1, 2],\n                                                correct_headers=True)"
      ], 
      "outputs": [], 
      "metadata": {
        "collapsed": false
      }
    }, 
    {
      "source": [
        "retest contains paths to images and data description\n\n"
      ], 
      "cell_type": "markdown", 
      "metadata": {}
    }, 
    {
      "execution_count": null, 
      "cell_type": "code", 
      "source": [
        "print(retest.anat)"
      ], 
      "outputs": [], 
      "metadata": {
        "collapsed": false
      }
    }, 
    {
      "source": [
        "Define the writing directory\n----------------------------\n\n"
      ], 
      "cell_type": "markdown", 
      "metadata": {}
    }, 
    {
      "execution_count": null, 
      "cell_type": "code", 
      "source": [
        "import os\n\nwrite_dir = os.path.join(os.getcwd(), 'zurich_common')\nif not os.path.exists(write_dir):\n    os.makedirs(write_dir)"
      ], 
      "outputs": [], 
      "metadata": {
        "collapsed": false
      }
    }, 
    {
      "source": [
        "Affine registration\n-------------------\n\n"
      ], 
      "cell_type": "markdown", 
      "metadata": {}
    }, 
    {
      "execution_count": null, 
      "cell_type": "code", 
      "source": [
        "from sammba.registration import anats_to_common\n\naffine_register = anats_to_common(retest.anat, write_dir, caching=True)"
      ], 
      "outputs": [], 
      "metadata": {
        "collapsed": false
      }
    }, 
    {
      "source": [
        "We set caching to True, so that this step computations are not restarted.\nThe paths to the registered images can be accessed easilly\n\n"
      ], 
      "cell_type": "markdown", 
      "metadata": {}
    }, 
    {
      "execution_count": null, 
      "cell_type": "code", 
      "source": [
        "registered_anats = affine_register.registered\nprint(registered_anats)"
      ], 
      "outputs": [], 
      "metadata": {
        "collapsed": false
      }
    }, 
    {
      "source": [
        "Visalize results\n----------------\nWe plot the edges of one individual anat on top of the average image\n\n"
      ], 
      "cell_type": "markdown", 
      "metadata": {}
    }, 
    {
      "execution_count": null, 
      "cell_type": "code", 
      "source": [
        "from nilearn import plotting, image\n\naverage_img = image.mean_img(registered_anats)\ndisplay = plotting.plot_anat(average_img, dim=-1.8, title='affine register')\ndisplay.add_edges(registered_anats[0])\nplotting.show()"
      ], 
      "outputs": [], 
      "metadata": {
        "collapsed": false
      }
    }, 
    {
      "source": [
        "Visualize pipeline steps\n-------------------------\n\n"
      ], 
      "cell_type": "markdown", 
      "metadata": {}
    }, 
    {
      "execution_count": null, 
      "cell_type": "code", 
      "source": [
        "from sammba.registration import create_pipeline_graph\n\ngraph_file = os.path.join(write_dir, 'affine_registration_graph')\ncreate_pipeline_graph('anats_to_common_affine', graph_file)"
      ], 
      "outputs": [], 
      "metadata": {
        "collapsed": false
      }
    }
  ], 
  "metadata": {
    "kernelspec": {
      "display_name": "Python 2", 
      "name": "python2", 
      "language": "python"
    }, 
    "language_info": {
      "mimetype": "text/x-python", 
      "nbconvert_exporter": "python", 
      "name": "python", 
      "file_extension": ".py", 
      "version": "2.7.14", 
      "pygments_lexer": "ipython2", 
      "codemirror_mode": {
        "version": 2, 
        "name": "ipython"
      }
    }
  }
}