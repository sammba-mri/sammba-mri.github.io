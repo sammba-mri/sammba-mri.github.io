{
  "nbformat_minor": 0, 
  "nbformat": 4, 
  "cells": [
    {
      "execution_count": null, 
      "cell_type": "code", 
      "source": [
        "%matplotlib inline"
      ], 
      "outputs": [], 
      "metadata": {
        "collapsed": false
      }
    }, 
    {
      "source": [
        "\nTemplate creation\n=================\n\nHere we show how to create a template from multiple anatomical scans.\nInitially, registration is of extracted brains. Once these are reasonably\naligned, whole heads are registered, weighted by masks that, if parameters\nare chosen well, include some scalp. The amount of scalp is hopefully enough\nto help in differentiating the brain-scalp boundary without including so much\nhead tissue that it starts to contaminate the registration with the highly\nvariable head tissue.\n\n"
      ], 
      "cell_type": "markdown", 
      "metadata": {}
    }, 
    {
      "source": [
        "Retrieve the data\n\n"
      ], 
      "cell_type": "markdown", 
      "metadata": {}
    }, 
    {
      "execution_count": null, 
      "cell_type": "code", 
      "source": [
        "from sammba import data_fetchers\n\nretest = data_fetchers.fetch_zurich_test_retest(subjects=range(4))"
      ], 
      "outputs": [], 
      "metadata": {
        "collapsed": false
      }
    }, 
    {
      "source": [
        "and define the caching directory\n\n"
      ], 
      "cell_type": "markdown", 
      "metadata": {}
    }, 
    {
      "execution_count": null, 
      "cell_type": "code", 
      "source": [
        "from nipype.caching import Memory\n\ncache_directory = '/tmp'\nmemory = Memory(cache_directory)"
      ], 
      "outputs": [], 
      "metadata": {
        "collapsed": false
      }
    }, 
    {
      "source": [
        "Register using center of mass\n-----------------------------\nAn initial coarse registration is done using brain centre of mass (CoM).\n\nFirst we loop through anatomical scans and correct intensities for bias.\n\n"
      ], 
      "cell_type": "markdown", 
      "metadata": {}
    }, 
    {
      "execution_count": null, 
      "cell_type": "code", 
      "source": [
        "from nipype.interfaces import afni\n\nunifize = memory.cache(afni.Unifize)\nunifized_files = []\nfor anat_file in retest.anat:\n    out_unifize = unifize(in_file=anat_file, outputtype='NIFTI_GZ')\n    unifized_files.append(out_unifize.outputs.out_file)"
      ], 
      "outputs": [], 
      "metadata": {
        "collapsed": false
      }
    }, 
    {
      "source": [
        "Second extract brains, aided by an approximate guessed brain volume,\nand set the NIfTI image centre (as defined in the header) to the CoM\nof the extracted brain.\n\n"
      ], 
      "cell_type": "markdown", 
      "metadata": {}
    }, 
    {
      "execution_count": null, 
      "cell_type": "code", 
      "source": [
        "import os\nfrom nipype.interfaces import afni, fsl\nfrom sammba.interfaces import RatsMM\n\nclip_level = memory.cache(afni.ClipLevel)\nrats = memory.cache(RatsMM)\napply_mask = memory.cache(fsl.ApplyMask)\ncenter_mass = memory.cache(afni.CenterMass)\nbrain_files = []\nfor unifized_file in unifized_files:\n    out_clip_level = clip_level(in_file=unifized_file)\n    out_rats = rats(in_file=unifized_file,\n                    out_file='UnBm.nii.gz',\n                    volume_threshold=400,\n                    intensity_threshold=int(out_clip_level.outputs.clip_val))\n    out_apply_mask = apply_mask(in_file=unifized_file,\n                                mask_file=out_rats.outputs.out_file)\n    out_center_mass = center_mass(\n        in_file=out_apply_mask.outputs.out_file,\n        cm_file=os.path.join(cache_directory, 'cm.txt'),\n        set_cm=(0, 0, 0))\n    brain_files.append(out_center_mass.outputs.out_file)"
      ], 
      "outputs": [], 
      "metadata": {
        "collapsed": false
      }
    }, 
    {
      "source": [
        "Same header change, for head files.\n\n"
      ], 
      "cell_type": "markdown", 
      "metadata": {}
    }, 
    {
      "execution_count": null, 
      "cell_type": "code", 
      "source": [
        "refit = memory.cache(afni.Refit)\nhead_files = []\nfor brain_file in brain_files:\n    out_refit = refit(in_file=unifized_file, duporigin_file=brain_file)\n    head_files.append(out_refit.outputs.out_file)"
      ], 
      "outputs": [], 
      "metadata": {
        "collapsed": false
      }
    }, 
    {
      "source": [
        "The brain files with new image center are concatenated to produce\na quality check video\n\n"
      ], 
      "cell_type": "markdown", 
      "metadata": {}
    }, 
    {
      "execution_count": null, 
      "cell_type": "code", 
      "source": [
        "tcat = memory.cache(afni.TCat)\nout_tcat = tcat(in_files=brain_files, outputtype='NIFTI_GZ')"
      ], 
      "outputs": [], 
      "metadata": {
        "collapsed": false
      }
    }, 
    {
      "source": [
        "and averaged\n\n"
      ], 
      "cell_type": "markdown", 
      "metadata": {}
    }, 
    {
      "execution_count": null, 
      "cell_type": "code", 
      "source": [
        "tstat = memory.cache(afni.TStat)\nout_tstat = tstat(in_file=out_tcat.outputs.out_file, outputtype='NIFTI_GZ')"
      ], 
      "outputs": [], 
      "metadata": {
        "collapsed": false
      }
    }, 
    {
      "source": [
        "to create an empty template, with origin placed at CoM\n\n"
      ], 
      "cell_type": "markdown", 
      "metadata": {}
    }, 
    {
      "execution_count": null, 
      "cell_type": "code", 
      "source": [
        "undump = memory.cache(afni.Undump)\nout_undump = undump(in_file=out_tstat.outputs.out_file, outputtype='NIFTI_GZ')\nout_refit = refit(in_file=out_undump.outputs.out_file,\n                  xorigin='cen', yorigin='cen', zorigin='cen')"
      ], 
      "outputs": [], 
      "metadata": {
        "collapsed": false
      }
    }, 
    {
      "source": [
        "Finally, we shift heads and brains within the images to place the CoM at the\nimage center.\n\n"
      ], 
      "cell_type": "markdown", 
      "metadata": {}
    }, 
    {
      "execution_count": null, 
      "cell_type": "code", 
      "source": [
        "resample = memory.cache(afni.Resample)\nshifted_head_files = []\nfor head_file in head_files:\n    out_resample = resample(in_file=head_file,\n                            master=out_refit.outputs.out_file,\n                            outputtype='NIFTI_GZ')\n    shifted_head_files.append(out_resample.outputs.out_file)\n\nshifted_brain_files = []\nfor brain_file in brain_files:\n    out_resample = resample(in_file=brain_file,\n                            master=out_refit.outputs.out_file,\n                            outputtype='NIFTI_GZ')\n    shifted_brain_files.append(out_resample.outputs.out_file)"
      ], 
      "outputs": [], 
      "metadata": {
        "collapsed": false
      }
    }, 
    {
      "source": [
        "Quality check videos and average brain\n\n"
      ], 
      "cell_type": "markdown", 
      "metadata": {}
    }, 
    {
      "execution_count": null, 
      "cell_type": "code", 
      "source": [
        "out_tcat = tcat(in_files=shifted_brain_files, outputtype='NIFTI_GZ')\nout_tstat_shifted_brain = tstat(in_file=out_tcat.outputs.out_file,\n                                outputtype='NIFTI_GZ')"
      ], 
      "outputs": [], 
      "metadata": {
        "collapsed": false
      }
    }, 
    {
      "source": [
        "At this point, we achieved a translation-only registration of the raw\nanatomical images to each other's brain's (as defined by the brain extractor)\nCoMs.\n\n"
      ], 
      "cell_type": "markdown", 
      "metadata": {}
    }, 
    {
      "source": [
        "Shift rotate\n------------\nNow we move to rigid-body registration of CoM brains, and application of this\nregistration to CoM heads. This registration requires a target template.\nHere we use mean of all bias-corrected, brain-extracted, mass-centered\nimages. Other possibilities include an externally-sourced image or, more\nbiased, a nicely-aligned individual.\n\n"
      ], 
      "cell_type": "markdown", 
      "metadata": {}
    }, 
    {
      "execution_count": null, 
      "cell_type": "code", 
      "source": [
        "allineate = memory.cache(afni.Allineate)\nshift_rotated_brain_files = []\nrigid_transform_files = []\nfor shifted_brain_file in shifted_brain_files:\n    out_allineate = allineate(\n        in_file=shifted_brain_file,\n        reference=out_tstat_shifted_brain.outputs.out_file,\n        out_matrix='UnBmBeCCAl3.aff12.1D',\n        convergence=0.005,\n        two_blur=1,\n        warp_type='shift_rotate',\n        out_file='UnBmBeCCAl3.nii.gz')\n    rigid_transform_files.append(out_allineate.outputs.out_matrix)\n    shift_rotated_brain_files.append(out_allineate.outputs.out_file)"
      ], 
      "outputs": [], 
      "metadata": {
        "collapsed": false
      }
    }, 
    {
      "source": [
        "Application to the whole head image. can also be used for a good\ndemonstration of linear vs. non-linear registration quality\n\n"
      ], 
      "cell_type": "markdown", 
      "metadata": {}
    }, 
    {
      "execution_count": null, 
      "cell_type": "code", 
      "source": [
        "shift_rotated_head_files = []\nfor shifted_head_file, rigid_transform_file in zip(shifted_head_files,\n                                                   rigid_transform_files):\n    out_allineate = allineate(in_file=shifted_head_file,\n                              master=out_tstat_shifted_brain.outputs.out_file,\n                              in_matrix=rigid_transform_file,\n                              out_file='UnBmBeCCAa3.nii.gz')\n    shift_rotated_head_files.append(out_allineate.outputs.out_file)"
      ], 
      "outputs": [], 
      "metadata": {
        "collapsed": false
      }
    }, 
    {
      "source": [
        "Note that this rigid body registration may need to be run more than once.\nNow we produce an average of rigid body registered heads\n\n"
      ], 
      "cell_type": "markdown", 
      "metadata": {}
    }, 
    {
      "execution_count": null, 
      "cell_type": "code", 
      "source": [
        "out_tcat = tcat(in_files=shift_rotated_head_files, outputtype='NIFTI_GZ')\nout_tstat_shr = tstat(in_file=out_tcat.outputs.out_file, outputtype='NIFTI_GZ')"
      ], 
      "outputs": [], 
      "metadata": {
        "collapsed": false
      }
    }, 
    {
      "source": [
        "and a count mask, useful for looking at brain extraction efficiency\nand differences in brain size.\n\n"
      ], 
      "cell_type": "markdown", 
      "metadata": {}
    }, 
    {
      "execution_count": null, 
      "cell_type": "code", 
      "source": [
        "mask_tool = memory.cache(afni.MaskTool)\nout_mask_tool = mask_tool(in_file=out_tcat.outputs.out_file,\n                          count=True,\n                          outputtype='NIFTI_GZ')"
      ], 
      "outputs": [], 
      "metadata": {
        "collapsed": false
      }
    }, 
    {
      "source": [
        "Affine transform\n----------------\nWe begin by achieving an affine registration on aligned heads.\nA weighting mask is used to ...\n\n"
      ], 
      "cell_type": "markdown", 
      "metadata": {}
    }, 
    {
      "execution_count": null, 
      "cell_type": "code", 
      "source": [
        "affine_transform_files = []\ncatmatvec = memory.cache(afni.CatMatvec)\nfor shift_rotated_head_file, rigid_transform_file in zip(\n            shift_rotated_head_files, rigid_transform_files):\n    out_allineate = allineate(in_file=shift_rotated_head_file,\n                              reference=out_tstat_shr.outputs.out_file,\n                              out_matrix='UnBmBeAl4.aff12.1D',\n                              convergence=0.1,\n                              two_blur=1,\n                              one_pass=True,\n                              weight=out_mask_tool.outputs.out_file,\n                              out_file='UnBmBeAl4.nii.gz')\n    catmatvec_out_file = os.path.join(os.path.dirname(rigid_transform_file),\n                                      'UnBmBeCCAl3UnCCAl4.aff12.1D')\n    out_catmatvec = catmatvec(in_file=[(rigid_transform_file, 'ONELINE'),\n                                       (out_allineate.outputs.out_matrix,\n                                        'ONELINE')],\n                              out_file=catmatvec_out_file)\n    affine_transform_files.append(catmatvec_out_file)"
      ], 
      "outputs": [], 
      "metadata": {
        "collapsed": false
      }
    }, 
    {
      "source": [
        "Typically, convergence should be set to 0.005 but we increase it for speed\nreason.\n\n"
      ], 
      "cell_type": "markdown", 
      "metadata": {}
    }, 
    {
      "source": [
        "Each resulting registration matrix is concatenated to the corresponding\nrigid bory registration matrix then directly applied to the CoM brain\nand head, reducing reslice errors in the final result.\n\n"
      ], 
      "cell_type": "markdown", 
      "metadata": {}
    }, 
    {
      "execution_count": null, 
      "cell_type": "code", 
      "source": [
        "allineated_brain_files = []\nfor shifted_brain_file, affine_transform_file in zip(\n        shifted_brain_files, affine_transform_files):\n    out_allineate = allineate(in_file=shifted_brain_file,\n                              master=out_tstat_shr.outputs.out_file,\n                              in_matrix=affine_transform_file,\n                              out_file='UnBmBeCCAa4.nii.gz')\n    allineated_brain_files.append(out_allineate.outputs.out_file)"
      ], 
      "outputs": [], 
      "metadata": {
        "collapsed": false
      }
    }, 
    {
      "source": [
        "The application to the whole head image can also be used for a good\ndemonstration of linear vs. non-linear registration quality.\n\n"
      ], 
      "cell_type": "markdown", 
      "metadata": {}
    }, 
    {
      "execution_count": null, 
      "cell_type": "code", 
      "source": [
        "allineated_head_files = []\nfor shifted_head_file, affine_transform_file in zip(shifted_brain_files,\n                                                    affine_transform_files):\n    out_allineate = allineate(in_file=shifted_head_file,\n                              master=out_tstat_shr.outputs.out_file,\n                              in_matrix=affine_transform_file,\n                              out_file='UnCCAa.nii.gz')\n    allineated_head_files.append(out_allineate.outputs.out_file)"
      ], 
      "outputs": [], 
      "metadata": {
        "collapsed": false
      }
    }, 
    {
      "source": [
        "Quality check videos and template\n\n"
      ], 
      "cell_type": "markdown", 
      "metadata": {}
    }, 
    {
      "execution_count": null, 
      "cell_type": "code", 
      "source": [
        "out_tcat_head = tcat(in_files=allineated_head_files, outputtype='NIFTI_GZ')\nout_tstat_allineated_head = tstat(in_file=out_tcat_head.outputs.out_file,\n                                  outputtype='NIFTI_GZ')"
      ], 
      "outputs": [], 
      "metadata": {
        "collapsed": false
      }
    }, 
    {
      "source": [
        "Non-linear registration\n-----------------------\nA weight mask that extends beyond the brain, incorporating some\nsurrounding tissue, is needed to help better define the brain head boundary.\n\n"
      ], 
      "cell_type": "markdown", 
      "metadata": {}
    }, 
    {
      "execution_count": null, 
      "cell_type": "code", 
      "source": [
        "out_mask_tool = mask_tool(in_file=out_tcat.outputs.out_file, count=True,\n                          outputtype='NIFTI_GZ')\nout_mask_tool = mask_tool(in_file=out_tcat.outputs.out_file, union=True,\n                          outputtype='NIFTI_GZ')\nout_mask_tool = mask_tool(in_file=out_mask_tool.outputs.out_file,\n                          dilate_inputs='4',\n                          outputtype='NIFTI_GZ')"
      ], 
      "outputs": [], 
      "metadata": {
        "collapsed": false
      }
    }, 
    {
      "source": [
        "The input source images are initially transformed prior to registration,\nto ensure that they are already quite well-aligned to the template.\nTo save time, we only achieve one refinement level per step\n\n"
      ], 
      "cell_type": "markdown", 
      "metadata": {}
    }, 
    {
      "execution_count": null, 
      "cell_type": "code", 
      "source": [
        "from nipype.utils.filemanip import fname_presuffix\n\nqwarp = memory.cache(afni.Qwarp)\nwarped_files = []\nwarp_files = []\nfor affine_transform_file, shifted_head_file in zip(affine_transform_files,\n                                                    shifted_head_files):\n    out_qwarp = qwarp(in_file=shifted_head_file,\n                      base_file=out_tstat_allineated_head.outputs.out_file,\n                      nmi=True,\n                      noneg=True,\n                      iwarp=True,\n                      weight=out_mask_tool.outputs.out_file,\n                      iniwarp=[affine_transform_file],\n                      inilev=0,\n                      maxlev=1,\n                      out_file=fname_presuffix(shifted_head_file, suffix='w1'))\n    warp_files.append(out_qwarp.outputs.source_warp)\n    warped_files.append(out_qwarp.outputs.warped_source)\n\nout_tcat = tcat(in_files=warped_files, outputtype='NIFTI_GZ')\nout_tstat_warp_head = tstat(in_file=out_tcat.outputs.out_file,\n                            outputtype='NIFTI_GZ')"
      ], 
      "outputs": [], 
      "metadata": {
        "collapsed": false
      }
    }, 
    {
      "source": [
        "Then iterative registration from a given level to another is achieved.\nNote that any level below a patch size of 25 will not be done (see 3dQwarp\nhelp for further detail).\nThe input transform is the former warp and needs to be concatenated to IDENT\ninitially; I forget why, I think it is to avoid some weird bug.\n\n"
      ], 
      "cell_type": "markdown", 
      "metadata": {}
    }, 
    {
      "execution_count": null, 
      "cell_type": "code", 
      "source": [
        "nwarp_cat = memory.cache(afni.NwarpCat)\nwarped_files2 = []\nwarp_files2 = []\nfor warp_file, shifted_head_file in zip(warp_files, shifted_head_files):\n    out_nwarp_cat = nwarp_cat(\n        in_files=[('IDENT', out_tstat_warp_head.outputs.out_file),\n                  warp_file], out_file='iniwarp.nii.gz')\n    out_qwarp = qwarp(in_file=shifted_head_file,\n                      base_file=out_tstat_warp_head.outputs.out_file,\n                      nmi=True,\n                      noneg=True,\n                      iwarp=True,\n                      weight=out_mask_tool.outputs.out_file,\n                      iniwarp=[out_nwarp_cat.outputs.out_file],\n                      inilev=2,\n                      maxlev=3,\n                      out_file=fname_presuffix(shifted_head_file, suffix='w2'))\n    warp_files2.append(out_qwarp.outputs.source_warp)\n    warped_files2.append(out_qwarp.outputs.warped_source)\n\nout_tcat = tcat(in_files=warped_files2, out_file='w2_videohead.nii.gz')\nout_tstat_warp_head2 = tstat(in_file=out_tcat.outputs.out_file,\n                             out_file='w2_meanhead.nii.gz')"
      ], 
      "outputs": [], 
      "metadata": {
        "collapsed": false
      }
    }, 
    {
      "source": [
        "Using previous files and concatenated transforms can be exploited to avoid\nbuilding up reslice errors.\nWarp with mini-patch\nIn this particular case, minpatch=75 corresponds to a level of 4\n\n"
      ], 
      "cell_type": "markdown", 
      "metadata": {}
    }, 
    {
      "execution_count": null, 
      "cell_type": "code", 
      "source": [
        "warped_files3 = []\nwarp_files3 = []\nfor warp_file, shifted_head_file in zip(warp_files2, shifted_head_files):\n    out_qwarp = qwarp(in_file=shifted_head_file,\n                      base_file=out_tstat_warp_head2.outputs.out_file,\n                      nmi=True,\n                      noneg=True,\n                      iwarp=True,\n                      weight=out_mask_tool.outputs.out_file,\n                      iniwarp=[warp_file],\n                      inilev=3,\n                      minpatch=75,\n                      out_file=fname_presuffix(shifted_head_file, suffix='w3'))\n    warped_files3.append(out_qwarp.outputs.warped_source)\n    warp_files3.append(out_qwarp.outputs.source_warp)\n\nout_tcat = tcat(in_files=warped_files3, out_file='w3_videohead.nii.gz')\nout_tstat_warp_head3 = tstat(in_file=out_tcat.outputs.out_file,\n                             out_file='w3_meanhead.nii.gz')"
      ], 
      "outputs": [], 
      "metadata": {
        "collapsed": false
      }
    }, 
    {
      "source": [
        "We can repeat this very last warp while using the last average until we are\nsatisfied with the template quality\n\n"
      ], 
      "cell_type": "markdown", 
      "metadata": {}
    }, 
    {
      "source": [
        "Registr to template\n-------------------\nApply non-linear registration results to uncorrected images\n\n"
      ], 
      "cell_type": "markdown", 
      "metadata": {}
    }, 
    {
      "execution_count": null, 
      "cell_type": "code", 
      "source": [
        "warp_apply = memory.cache(afni.NwarpApply)\nfor head_file, warp_file in zip(head_files, warp_files3):\n    out_warp_apply = warp_apply(in_file=head_file,\n                                warp=warp_file,\n                                master=out_tstat_warp_head3.outputs.out_file,\n                                out_file='Na.nii.gz')"
      ], 
      "outputs": [], 
      "metadata": {
        "collapsed": false
      }
    }, 
    {
      "source": [
        "Visualize one individual anat on top of template\n\n"
      ], 
      "cell_type": "markdown", 
      "metadata": {}
    }, 
    {
      "execution_count": null, 
      "cell_type": "code", 
      "source": [
        "from nilearn import plotting\n\ndisplay = plotting.plot_anat(out_warp_apply.outputs.out_file, dim=-1.7)\ndisplay.add_edges(out_tstat_warp_head3.outputs.out_file)\n\nplotting.show()"
      ], 
      "outputs": [], 
      "metadata": {
        "collapsed": false
      }
    }, 
    {
      "source": [
        "Visualize the pipeline\n----------------------\nIf you want to go further, you can visualize the whole pipeline or a part of\nit as a graph. For instance, we can draw the center of mass registration\nsteps.\n\n"
      ], 
      "cell_type": "markdown", 
      "metadata": {}
    }, 
    {
      "execution_count": null, 
      "cell_type": "code", 
      "source": [
        "import nipype.pipeline.engine as pe\n\nworkflow = pe.Workflow(name='CoM_registration')"
      ], 
      "outputs": [], 
      "metadata": {
        "collapsed": false
      }
    }, 
    {
      "source": [
        "Specify the pipeline steps\n\n"
      ], 
      "cell_type": "markdown", 
      "metadata": {}
    }, 
    {
      "execution_count": null, 
      "cell_type": "code", 
      "source": [
        "unifize_node = pe.Node(interface=afni.Unifize(), name='bias_correct')\nclip_level_node = pe.Node(interface=afni.ClipLevel(),\n                          name='compute_mask_threshold')\nrats_node = pe.Node(interface=RatsMM(), name='compute_brain_mask')\napply_mask_node = pe.Node(interface=fsl.ApplyMask(), name='apply_brain_mask')\ncenter_mass_node = pe.Node(interface=afni.CenterMass(),\n                           name='compute_and_set_cm_in_header')\nrefit_node = pe.Node(afni.Refit(), name='set_cm_in_header')\ntcat_node = pe.Node(afni.TCat(), name='concatenate_across_individuals')\ntstat_node = pe.Node(afni.TStat(), name='compute_average')\nundump_node = pe.Node(afni.Undump(), name='create_empty_template')\nrefit_node2 = pe.Node(afni.Refit(), name='set_cm_in_header2')\nresample_node = pe.Node(afni.Resample(), name='resample')\n\nworkflow.add_nodes([unifize_node, clip_level_node, rats_node, apply_mask_node,\n                    center_mass_node, refit_node, tcat_node, tstat_node,\n                    undump_node, refit_node2, resample_node])"
      ], 
      "outputs": [], 
      "metadata": {
        "collapsed": false
      }
    }, 
    {
      "source": [
        "Specify connections\n\n"
      ], 
      "cell_type": "markdown", 
      "metadata": {}
    }, 
    {
      "execution_count": null, 
      "cell_type": "code", 
      "source": [
        "import nipype.pipeline.engine as pe\n\nworkflow.connect(unifize_node, 'out_file', clip_level_node, 'in_file')\nworkflow.connect(clip_level_node, 'clip_val', rats_node, 'intensity_threshold')\nworkflow.connect(unifize_node, 'out_file', rats_node, 'in_file')\nworkflow.connect(rats_node, 'out_file', apply_mask_node, 'mask_file')\nworkflow.connect(apply_mask_node, 'out_file', center_mass_node, 'in_file')\nworkflow.connect(unifize_node, 'out_file', refit_node, 'in_file')\nworkflow.connect(center_mass_node, 'out_file', refit_node, 'duporigin_file')\nworkflow.connect(center_mass_node, 'out_file', tcat_node, 'in_files')\nworkflow.connect(tcat_node, 'out_file', tstat_node, 'in_file')\nworkflow.connect(tstat_node, 'out_file', undump_node, 'in_file')\nworkflow.connect(undump_node, 'out_file', refit_node2, 'in_file')\nworkflow.connect(refit_node, 'out_file', resample_node, 'master')\nworkflow.connect(refit_node2, 'out_file', resample_node, 'in_file')"
      ], 
      "outputs": [], 
      "metadata": {
        "collapsed": false
      }
    }, 
    {
      "source": [
        "Generate the graph\n\n"
      ], 
      "cell_type": "markdown", 
      "metadata": {}
    }, 
    {
      "execution_count": null, 
      "cell_type": "code", 
      "source": [
        "graph = workflow.write_graph()"
      ], 
      "outputs": [], 
      "metadata": {
        "collapsed": false
      }
    }
  ], 
  "metadata": {
    "kernelspec": {
      "display_name": "Python 2", 
      "name": "python2", 
      "language": "python"
    }, 
    "language_info": {
      "mimetype": "text/x-python", 
      "nbconvert_exporter": "python", 
      "name": "python", 
      "file_extension": ".py", 
      "version": "2.7.13", 
      "pygments_lexer": "ipython2", 
      "codemirror_mode": {
        "version": 2, 
        "name": "ipython"
      }
    }
  }
}